{
  "nbformat": 4,
  "nbformat_minor": 0,
  "metadata": {
    "colab": {
      "provenance": [],
      "authorship_tag": "ABX9TyNSohFBnhy4yzoGzef10ukk",
      "include_colab_link": true
    },
    "kernelspec": {
      "name": "python3",
      "display_name": "Python 3"
    },
    "language_info": {
      "name": "python"
    }
  },
  "cells": [
    {
      "cell_type": "markdown",
      "metadata": {
        "id": "view-in-github",
        "colab_type": "text"
      },
      "source": [
        "<a href=\"https://colab.research.google.com/github/MiroxDot/Projects/blob/main/Handwritten_Digit_Classification.ipynb\" target=\"_parent\"><img src=\"https://colab.research.google.com/assets/colab-badge.svg\" alt=\"Open In Colab\"/></a>"
      ]
    },
    {
      "cell_type": "code",
      "execution_count": 1,
      "metadata": {
        "id": "0PM7aLaPRxTr"
      },
      "outputs": [],
      "source": [
        "# Import Library\n",
        "import tensorflow as tf"
      ]
    },
    {
      "cell_type": "code",
      "source": [
        "# Load the MNIST dataset from TensorFlow's Keras API.\n",
        "mnist = tf.keras.datasets.mnist"
      ],
      "metadata": {
        "id": "d63ix02j0XzY"
      },
      "execution_count": 3,
      "outputs": []
    },
    {
      "cell_type": "code",
      "source": [
        "# Load the MNIST dataset into training and testing sets using the load_data() method.\n",
        "# This returns two tuples: (x_train, y_train) contains the training images and labels,\n",
        "# and (x_test, y_test) contains the testing images and labels.\n",
        "(x_train, y_train), (x_test, y_test) = mnist.load_data()"
      ],
      "metadata": {
        "id": "NKGvPQjv0wus",
        "colab": {
          "base_uri": "https://localhost:8080/"
        },
        "outputId": "b4464526-13fd-45e8-acfb-b3a0cec85fff"
      },
      "execution_count": 4,
      "outputs": [
        {
          "output_type": "stream",
          "name": "stdout",
          "text": [
            "Downloading data from https://storage.googleapis.com/tensorflow/tf-keras-datasets/mnist.npz\n",
            "11490434/11490434 [==============================] - 0s 0us/step\n"
          ]
        }
      ]
    },
    {
      "cell_type": "code",
      "source": [
        "# Import the matplotlib.pyplot module for plotting graphs and images\n",
        "import matplotlib.pyplot as plt\n",
        "\n",
        "# Display the 6th image in the training dataset using matplotlib's imshow function.\n",
        "# The image is a 28x28 pixel grayscale image of a handwritten digit.\n",
        "plt.imshow(x_train[5])\n",
        "\n",
        "# Print the pixel values of the 6th image in the test dataset to the console.\n",
        "# This will display a 28x28 array of integers, each representing a grayscale value.\n",
        "print(x_test[5])"
      ],
      "metadata": {
        "colab": {
          "base_uri": "https://localhost:8080/",
          "height": 1000
        },
        "id": "EoPZMGaq0_iO",
        "outputId": "8d30c0cc-0d7d-4c16-b978-71b8d2a99973"
      },
      "execution_count": 5,
      "outputs": [
        {
          "output_type": "stream",
          "name": "stdout",
          "text": [
            "[[  0   0   0   0   0   0   0   0   0   0   0   0   0   0   0   0   0   0\n",
            "    0   0   0   0   0   0   0   0   0   0]\n",
            " [  0   0   0   0   0   0   0   0   0   0   0   0   0   0   0   0   0   0\n",
            "    0   0   0   0   0   0   0   0   0   0]\n",
            " [  0   0   0   0   0   0   0   0   0   0   0   0   0   0   0   0   0   0\n",
            "    0   0   0   0   0   0   0   0   0   0]\n",
            " [  0   0   0   0   0   0   0   0   0   0   0   0   0   0   0   0   0   0\n",
            "    0   0   0   0   0   0   0   0   0   0]\n",
            " [  0   0   0   0   0   0   0   0   0   0   0   0   0   0   0   0   0   0\n",
            "    0   0   0   0   0   0   0   0   0   0]\n",
            " [  0   0   0   0   0   0   0   0   0   0   0   0   0   0   0   0  77 254\n",
            "  107   3   0   0   0   0   0   0   0   0]\n",
            " [  0   0   0   0   0   0   0   0   0   0   0   0   0   0   0  19 227 254\n",
            "  254   9   0   0   0   0   0   0   0   0]\n",
            " [  0   0   0   0   0   0   0   0   0   0   0   0   0   0   0  81 254 254\n",
            "  165   1   0   0   0   0   0   0   0   0]\n",
            " [  0   0   0   0   0   0   0   0   0   0   0   0   0   0   7 203 254 254\n",
            "   73   0   0   0   0   0   0   0   0   0]\n",
            " [  0   0   0   0   0   0   0   0   0   0   0   0   0   0  53 254 254 250\n",
            "    0   0   0   0   0   0   0   0   0   0]\n",
            " [  0   0   0   0   0   0   0   0   0   0   0   0   0   0 134 254 254 180\n",
            "    0   0   0   0   0   0   0   0   0   0]\n",
            " [  0   0   0   0   0   0   0   0   0   0   0   0   0   0 196 254 248  48\n",
            "    0   0   0   0   0   0   0   0   0   0]\n",
            " [  0   0   0   0   0   0   0   0   0   0   0   0   0  58 254 254 237   0\n",
            "    0   0   0   0   0   0   0   0   0   0]\n",
            " [  0   0   0   0   0   0   0   0   0   0   0   0   0 111 254 254 132   0\n",
            "    0   0   0   0   0   0   0   0   0   0]\n",
            " [  0   0   0   0   0   0   0   0   0   0   0   0   0 163 254 238  28   0\n",
            "    0   0   0   0   0   0   0   0   0   0]\n",
            " [  0   0   0   0   0   0   0   0   0   0   0   0  60 252 254 223   0   0\n",
            "    0   0   0   0   0   0   0   0   0   0]\n",
            " [  0   0   0   0   0   0   0   0   0   0   0   0  79 254 254 154   0   0\n",
            "    0   0   0   0   0   0   0   0   0   0]\n",
            " [  0   0   0   0   0   0   0   0   0   0   0   0 163 254 238  53   0   0\n",
            "    0   0   0   0   0   0   0   0   0   0]\n",
            " [  0   0   0   0   0   0   0   0   0   0   0  28 252 254 210   0   0   0\n",
            "    0   0   0   0   0   0   0   0   0   0]\n",
            " [  0   0   0   0   0   0   0   0   0   0   0  86 254 254 131   0   0   0\n",
            "    0   0   0   0   0   0   0   0   0   0]\n",
            " [  0   0   0   0   0   0   0   0   0   0   0 105 254 234  20   0   0   0\n",
            "    0   0   0   0   0   0   0   0   0   0]\n",
            " [  0   0   0   0   0   0   0   0   0   0   0 175 254 204   5   0   0   0\n",
            "    0   0   0   0   0   0   0   0   0   0]\n",
            " [  0   0   0   0   0   0   0   0   0   0   5 211 254 196   0   0   0   0\n",
            "    0   0   0   0   0   0   0   0   0   0]\n",
            " [  0   0   0   0   0   0   0   0   0   0   3 158 254 160   0   0   0   0\n",
            "    0   0   0   0   0   0   0   0   0   0]\n",
            " [  0   0   0   0   0   0   0   0   0   0   0  26 157 107   0   0   0   0\n",
            "    0   0   0   0   0   0   0   0   0   0]\n",
            " [  0   0   0   0   0   0   0   0   0   0   0   0   0   0   0   0   0   0\n",
            "    0   0   0   0   0   0   0   0   0   0]\n",
            " [  0   0   0   0   0   0   0   0   0   0   0   0   0   0   0   0   0   0\n",
            "    0   0   0   0   0   0   0   0   0   0]\n",
            " [  0   0   0   0   0   0   0   0   0   0   0   0   0   0   0   0   0   0\n",
            "    0   0   0   0   0   0   0   0   0   0]]\n"
          ]
        },
        {
          "output_type": "display_data",
          "data": {
            "text/plain": [
              "<Figure size 640x480 with 1 Axes>"
            ],
            "image/png": "[encoded data removed]"
          },
          "metadata": {}
        }
      ]
    },
    {
      "cell_type": "code",
      "source": [
        "# Normalize the pixel values of training images to enhance model training efficiency.\n",
        "x_train = tf.keras.utils.normalize(x_train, axis=1)\n",
        "\n",
        "# Normalize the pixel values of test images to match the scale of training data.\n",
        "x_test = tf.keras.utils.normalize(x_test, axis=1)"
      ],
      "metadata": {
        "id": "DIuogoYP4HSw"
      },
      "execution_count": 6,
      "outputs": []
    },
    {
      "cell_type": "code",
      "source": [
        "# Import the sparse_categorical_crossentropy from Keras backend\n",
        "from keras.src.backend import sparse_categorical_crossentropy\n",
        "# Initialize a sequential model to add layers in a feed-forward manner\n",
        "model = tf.keras.models.Sequential()\n",
        "# Add a flatten layer to convert 2D images to 1D vectors\n",
        "model.add(tf.keras.layers.Flatten())\n",
        "# Add the first dense layer with 128 neurons and ReLU activation function\n",
        "model.add(tf.keras.layers.Dense(128, activation=tf.nn.relu))\n",
        "# Add the second dense layer with 128 neurons and ReLU activation function\n",
        "model.add(tf.keras.layers.Dense(128, activation=tf.nn.relu))\n",
        "# Add the output layer with 10 neurons (one for each digit) and softmax activation function for multi-class classification\n",
        "model.add(tf.keras.layers.Dense(10, activation=tf.nn.softmax))\n",
        "# Compile the model with the Adam optimizer, sparse categorical crossentropy loss, and accuracy metric\n",
        "model.compile(optimizer='adam', loss='sparse_categorical_crossentropy', metrics=['accuracy'])\n",
        "# Train the model on the training data with labels for 8 epochs\n",
        "model.fit(x_train, y_train, epochs=8)"
      ],
      "metadata": {
        "colab": {
          "base_uri": "https://localhost:8080/"
        },
        "id": "ehv4haGX5-PA",
        "outputId": "3a66e7db-8e1d-41aa-de13-1a9a40868f18"
      },
      "execution_count": 7,
      "outputs": [
        {
          "output_type": "stream",
          "name": "stdout",
          "text": [
            "Epoch 1/8\n",
            "1875/1875 [==============================] - 7s 3ms/step - loss: 0.2575 - accuracy: 0.9254\n",
            "Epoch 2/8\n",
            "1875/1875 [==============================] - 6s 3ms/step - loss: 0.1030 - accuracy: 0.9677\n",
            "Epoch 3/8\n",
            "1875/1875 [==============================] - 5s 3ms/step - loss: 0.0707 - accuracy: 0.9773\n",
            "Epoch 4/8\n",
            "1875/1875 [==============================] - 6s 3ms/step - loss: 0.0528 - accuracy: 0.9826\n",
            "Epoch 5/8\n",
            "1875/1875 [==============================] - 5s 3ms/step - loss: 0.0401 - accuracy: 0.9869\n",
            "Epoch 6/8\n",
            "1875/1875 [==============================] - 5s 3ms/step - loss: 0.0318 - accuracy: 0.9895\n",
            "Epoch 7/8\n",
            "1875/1875 [==============================] - 6s 3ms/step - loss: 0.0246 - accuracy: 0.9920\n",
            "Epoch 8/8\n",
            "1875/1875 [==============================] - 5s 3ms/step - loss: 0.0217 - accuracy: 0.9925\n"
          ]
        },
        {
          "output_type": "execute_result",
          "data": {
            "text/plain": [
              "<keras.src.callbacks.History at 0x7af48d7ddf00>"
            ]
          },
          "metadata": {},
          "execution_count": 7
        }
      ]
    },
    {
      "cell_type": "code",
      "source": [
        "# Evaluate the model on the test dataset to determine the loss and accuracy.\n",
        "# 'val_loss' captures the loss value, and 'val_acc' captures the accuracy of the model on the test data.\n",
        "val_loss, val_acc = model.evaluate(x_test, y_test)\n",
        "\n",
        "# Print the loss and accuracy obtained from the model evaluation on the test data.\n",
        "print(val_loss, val_acc)"
      ],
      "metadata": {
        "colab": {
          "base_uri": "https://localhost:8080/"
        },
        "id": "zbjDXDOW9Rj8",
        "outputId": "a5b047e2-a309-4b3c-9769-26fd1253a6f9"
      },
      "execution_count": 8,
      "outputs": [
        {
          "output_type": "stream",
          "name": "stdout",
          "text": [
            "313/313 [==============================] - 1s 2ms/step - loss: 0.0991 - accuracy: 0.9755\n",
            "0.09909656643867493 0.9754999876022339\n"
          ]
        }
      ]
    },
    {
      "cell_type": "code",
      "source": [
        "# Save the trained model to a file named 'num_lab.model' for later use or deployment.\n",
        "model.save('num_lab.model')"
      ],
      "metadata": {
        "id": "3gi8WNUbAjDo"
      },
      "execution_count": 9,
      "outputs": []
    },
    {
      "cell_type": "code",
      "source": [
        "# Load the previously saved model from 'num_lab.model' into 'new_model' for use in further predictions or analysis.\n",
        "new_model = tf.keras.models.load_model('num_lab.model')"
      ],
      "metadata": {
        "id": "AnQE3EFPAt-h"
      },
      "execution_count": 10,
      "outputs": []
    },
    {
      "cell_type": "code",
      "source": [
        "# Use the loaded model 'new_model' to make predictions on the test dataset 'x_test'.\n",
        "# The predict method outputs the probability distributions across the 10 classes for each input image.\n",
        "predictions = new_model.predict([x_test])\n",
        "\n",
        "# Print the output predictions array, which shows the probabilities for each class of each test image.\n",
        "print(predictions)"
      ],
      "metadata": {
        "colab": {
          "base_uri": "https://localhost:8080/"
        },
        "id": "1lQAJmzzBJ2O",
        "outputId": "582df0d0-2362-45c4-b5ba-48fea2ef6545"
      },
      "execution_count": 11,
      "outputs": [
        {
          "output_type": "stream",
          "name": "stdout",
          "text": [
            "313/313 [==============================] - 1s 2ms/step\n",
            "[[1.3331050e-13 6.8306100e-10 7.7131551e-10 ... 9.9999994e-01\n",
            "  1.2771467e-12 9.4120045e-10]\n",
            " [1.3278075e-13 8.6822570e-07 9.9999875e-01 ... 2.6004128e-11\n",
            "  6.8459799e-10 3.1325391e-16]\n",
            " [1.0832346e-11 9.9994963e-01 1.0087907e-07 ... 7.7157119e-06\n",
            "  4.1176390e-05 8.2066647e-09]\n",
            " ...\n",
            " [1.7408400e-13 3.1857569e-10 5.8550864e-15 ... 1.6420014e-08\n",
            "  6.2509270e-10 2.2496458e-07]\n",
            " [8.5771064e-11 1.0783715e-11 2.3347455e-12 ... 4.2866297e-11\n",
            "  9.8067132e-05 5.6492761e-13]\n",
            " [1.0476447e-12 3.7285895e-12 4.3555180e-14 ... 1.9303390e-15\n",
            "  7.3151422e-11 4.2965349e-16]]\n"
          ]
        }
      ]
    },
    {
      "cell_type": "code",
      "source": [
        "# Import the numpy library for numerical operations\n",
        "import numpy as np\n",
        "\n",
        "# Find the index of the maximum value in the predictions array for the 8th test image.\n",
        "# This index corresponds to the class label predicted by the model for that particular image.\n",
        "print(np.argmax(predictions[7]))"
      ],
      "metadata": {
        "colab": {
          "base_uri": "https://localhost:8080/"
        },
        "id": "8YV7fUX2BZ8x",
        "outputId": "e139ac70-db48-4aac-ef47-3ddd1aede3cd"
      },
      "execution_count": 12,
      "outputs": [
        {
          "output_type": "stream",
          "name": "stdout",
          "text": [
            "9\n"
          ]
        }
      ]
    },
    {
      "cell_type": "code",
      "source": [
        "# Display the 8th image from the test dataset using matplotlib's imshow function.\n",
        "# The imshow function renders the image in a window.\n",
        "plt.imshow(x_test[7])\n",
        "\n",
        "# Show the plot window with the image. This is necessary to actually display the plotted image when not in an interactive environment.\n",
        "plt.show()"
      ],
      "metadata": {
        "colab": {
          "base_uri": "https://localhost:8080/",
          "height": 430
        },
        "id": "BC4zgwDuCrvb",
        "outputId": "54b14e1c-cd73-4756-f570-65d7f1ed5ed5"
      },
      "execution_count": 13,
      "outputs": [
        {
          "output_type": "display_data",
          "data": {
            "text/plain": [
              "<Figure size 640x480 with 1 Axes>"
            ],
            "image/png": "[encoded data removed]"
          },
          "metadata": {}
        }
      ]
    }
  ]
}